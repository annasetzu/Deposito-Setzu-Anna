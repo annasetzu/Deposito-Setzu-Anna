{
 "cells": [
  {
   "cell_type": "markdown",
   "id": "01885bc9",
   "metadata": {},
   "source": [
    "#Esercizio 2: Air quality"
   ]
  },
  {
   "cell_type": "code",
   "execution_count": 1,
   "id": "22c3c8dd",
   "metadata": {},
   "outputs": [],
   "source": [
    "import pandas as pd\n",
    "import numpy as np\n",
    "from sklearn.model_selection import train_test_split\n",
    "from sklearn.ensemble import RandomForestClassifier\n",
    "from sklearn.metrics import accuracy_score"
   ]
  },
  {
   "cell_type": "code",
   "execution_count": 19,
   "id": "06c09930",
   "metadata": {},
   "outputs": [],
   "source": [
    "#lavoro sul dataset\n",
    "df = pd.read_csv('AirQualityUCI.csv', sep=';')\n",
    "\n",
    "df['CO(GT)'] = pd.to_numeric(df['CO(GT)'].str.replace(',', '.'))\n",
    "df = df[['Date', 'Time', 'CO(GT)']].replace(-200, np.nan).dropna()\n"
   ]
  },
  {
   "cell_type": "code",
   "execution_count": 20,
   "id": "e9d5195c",
   "metadata": {},
   "outputs": [
    {
     "name": "stdout",
     "output_type": "stream",
     "text": [
      "          Date      Time  CO(GT)                     Label\n",
      "0   10/03/2004  18.00.00     2.6  scarsa qualità dell'aria\n",
      "1   10/03/2004  19.00.00     2.0  scarsa qualità dell'aria\n",
      "2   10/03/2004  20.00.00     2.2  scarsa qualità dell'aria\n",
      "3   10/03/2004  21.00.00     2.2  scarsa qualità dell'aria\n",
      "4   10/03/2004  22.00.00     1.6   buona qualità dell'aria\n",
      "5   10/03/2004  23.00.00     1.2   buona qualità dell'aria\n",
      "6   11/03/2004  00.00.00     1.2   buona qualità dell'aria\n",
      "7   11/03/2004  01.00.00     1.0   buona qualità dell'aria\n",
      "8   11/03/2004  02.00.00     0.9   buona qualità dell'aria\n",
      "9   11/03/2004  03.00.00     0.6   buona qualità dell'aria\n",
      "11  11/03/2004  05.00.00     0.7   buona qualità dell'aria\n",
      "12  11/03/2004  06.00.00     0.7   buona qualità dell'aria\n",
      "13  11/03/2004  07.00.00     1.1   buona qualità dell'aria\n",
      "14  11/03/2004  08.00.00     2.0   buona qualità dell'aria\n",
      "15  11/03/2004  09.00.00     2.2   buona qualità dell'aria\n",
      "16  11/03/2004  10.00.00     1.7   buona qualità dell'aria\n",
      "17  11/03/2004  11.00.00     1.5   buona qualità dell'aria\n",
      "18  11/03/2004  12.00.00     1.6   buona qualità dell'aria\n",
      "19  11/03/2004  13.00.00     1.9   buona qualità dell'aria\n",
      "20  11/03/2004  14.00.00     2.9  scarsa qualità dell'aria\n",
      "21  11/03/2004  15.00.00     2.2   buona qualità dell'aria\n",
      "22  11/03/2004  16.00.00     2.2   buona qualità dell'aria\n",
      "23  11/03/2004  17.00.00     2.9  scarsa qualità dell'aria\n",
      "24  11/03/2004  18.00.00     4.8  scarsa qualità dell'aria\n"
     ]
    }
   ],
   "source": [
    "# calcolo media e assegno etichetta\n",
    "daily_mean = df.groupby('Date')['CO(GT)'].transform('mean')\n",
    "df['Label'] = np.where(df['CO(GT)'] > daily_mean, \"scarsa qualità dell'aria\", \"buona qualità dell'aria\")\n",
    "print(df.head(24))"
   ]
  },
  {
   "cell_type": "code",
   "execution_count": 24,
   "id": "2d844342",
   "metadata": {},
   "outputs": [
    {
     "name": "stdout",
     "output_type": "stream",
     "text": [
      "                       Date      Time  CO(GT)                     Label  Week\n",
      "Date                                                                         \n",
      "01/01/2005 7128  01/01/2005  18.00.00     4.7  scarsa qualità dell'aria    53\n",
      "           7129  01/01/2005  19.00.00     3.6  scarsa qualità dell'aria    53\n",
      "           7127  01/01/2005  17.00.00     3.0  scarsa qualità dell'aria    53\n",
      "01/02/2005 7863  01/02/2005  09.00.00     4.8  scarsa qualità dell'aria     5\n",
      "           7865  01/02/2005  11.00.00     4.5  scarsa qualità dell'aria     5\n",
      "           7866  01/02/2005  12.00.00     4.5  scarsa qualità dell'aria     5\n",
      "01/03/2005 8546  01/03/2005  20.00.00     2.8  scarsa qualità dell'aria     9\n",
      "           8547  01/03/2005  21.00.00     2.2  scarsa qualità dell'aria     9\n",
      "           8545  01/03/2005  19.00.00     2.1  scarsa qualità dell'aria     9\n",
      "01/04/2004 518   01/04/2004  08.00.00     6.2  scarsa qualità dell'aria    14\n"
     ]
    },
    {
     "name": "stderr",
     "output_type": "stream",
     "text": [
      "C:\\Users\\PC467PH\\AppData\\Local\\Temp\\ipykernel_16724\\1400446273.py:2: FutureWarning: DataFrameGroupBy.apply operated on the grouping columns. This behavior is deprecated, and in a future version of pandas the grouping columns will be excluded from the operation. Either pass `include_groups=False` to exclude the groupings or explicitly select the grouping columns after groupby to silence this warning.\n",
      "  higher = df.groupby('Date').apply(lambda g: g.nlargest(3, 'CO(GT)'))\n"
     ]
    }
   ],
   "source": [
    "# 3 valori più alti al giorno\n",
    "higher = df.groupby('Date').apply(lambda g: g.nlargest(3, 'CO(GT)'))\n",
    "print(higher.head(10))"
   ]
  },
  {
   "cell_type": "code",
   "execution_count": 25,
   "id": "f44e37ae",
   "metadata": {},
   "outputs": [
    {
     "name": "stdout",
     "output_type": "stream",
     "text": [
      "Week\n",
      "1     46.666667\n",
      "2     51.219512\n",
      "3     49.629630\n",
      "4     50.704225\n",
      "5     43.030303\n",
      "6     52.409639\n",
      "7     43.975904\n",
      "8     43.636364\n",
      "9     42.168675\n",
      "10    34.615385\n",
      "11    41.984733\n",
      "12    43.425076\n",
      "13    43.768997\n",
      "14    45.070423\n",
      "15    43.589744\n",
      "16    39.215686\n",
      "17    46.153846\n",
      "18    45.962733\n",
      "19    44.444444\n",
      "20    40.789474\n",
      "21    45.962733\n",
      "22    43.750000\n",
      "23    45.360825\n",
      "24    44.848485\n",
      "25    47.878788\n",
      "26    45.783133\n",
      "27    44.578313\n",
      "28    42.168675\n",
      "29    44.242424\n",
      "30    41.818182\n",
      "31    36.956522\n",
      "32    48.351648\n",
      "33    50.303030\n",
      "34    45.312500\n",
      "35    47.154472\n",
      "36    38.383838\n",
      "37    46.534653\n",
      "38    46.153846\n",
      "39    46.666667\n",
      "40    45.098039\n",
      "41    48.101266\n",
      "42    45.714286\n",
      "43    47.000000\n",
      "44    47.204969\n",
      "45    48.076923\n",
      "46    42.567568\n",
      "47    48.170732\n",
      "48    51.533742\n",
      "49    43.373494\n",
      "50    51.204819\n",
      "51    48.484848\n",
      "52    49.397590\n",
      "53    50.000000\n",
      "Name: Label, dtype: float64\n"
     ]
    }
   ],
   "source": [
    "# Percentuale settimanale\n",
    "df['Week'] = pd.to_datetime(df['Date'], dayfirst=True).dt.isocalendar().week\n",
    "weekly = df.groupby('Week')['Label'].apply(lambda x: (x == \"scarsa qualità dell'aria\").mean()*100)\n",
    "print(weekly)"
   ]
  },
  {
   "cell_type": "code",
   "execution_count": 27,
   "id": "4d5ed0c8",
   "metadata": {},
   "outputs": [
    {
     "name": "stdout",
     "output_type": "stream",
     "text": [
      "45.49126922074537\n"
     ]
    }
   ],
   "source": [
    "global_mean = (df['Label'] == \"scarsa qualità dell'aria\").mean()*100\n",
    "print(global_mean)"
   ]
  },
  {
   "cell_type": "code",
   "execution_count": 28,
   "id": "7927add0",
   "metadata": {},
   "outputs": [
    {
     "name": "stdout",
     "output_type": "stream",
     "text": [
      "0.8221498371335505\n"
     ]
    }
   ],
   "source": [
    "# Random forest\n",
    "df['Hour'] = pd.to_datetime(df['Time'], format='%H.%M.%S').dt.hour\n",
    "X = df[['Hour', 'CO(GT)']]\n",
    "y = (df['Label'] == \"scarsa qualità dell'aria\").astype(int)\n",
    "\n",
    "X_train, X_test, y_train, y_test = train_test_split(X, y, test_size=0.2, random_state=42)\n",
    "model = RandomForestClassifier()\n",
    "model.fit(X_train, y_train)\n",
    "\n",
    "y_pred = model.predict(X_test)\n",
    "\n",
    "print(accuracy_score(y_test, y_pred))"
   ]
  }
 ],
 "metadata": {
  "kernelspec": {
   "display_name": "Python 3",
   "language": "python",
   "name": "python3"
  },
  "language_info": {
   "codemirror_mode": {
    "name": "ipython",
    "version": 3
   },
   "file_extension": ".py",
   "mimetype": "text/x-python",
   "name": "python",
   "nbconvert_exporter": "python",
   "pygments_lexer": "ipython3",
   "version": "3.13.7"
  }
 },
 "nbformat": 4,
 "nbformat_minor": 5
}
